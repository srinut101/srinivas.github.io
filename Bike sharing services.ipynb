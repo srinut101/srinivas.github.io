{
    "cells": [
        {
            "metadata": {
                "collapsed": true
            },
            "cell_type": "markdown",
            "source": "# Case Study: Bike sharing services"
        },
        {
            "metadata": {},
            "cell_type": "markdown",
            "source": "## Case Background"
        },
        {
            "metadata": {},
            "cell_type": "markdown",
            "source": "I have been tasked with understanding how casual riders and annual members use Cyclistic bikes differently. Casual riders are made up of customers that who purchase single-ride or full-day passes, whereas annual members purchase an annual subscription for the service.The company's future success depends on maximizing the number of annual memberships."
        },
        {
            "metadata": {},
            "cell_type": "markdown",
            "source": "## Scope of Work"
        },
        {
            "metadata": {},
            "cell_type": "markdown",
            "source": "As we learn the data analytics it mainly below are phases of the data analysis process \n1) Ask\n2) Prepare\n3) Process\n4) Analyze\n5) Share"
        },
        {
            "metadata": {},
            "cell_type": "markdown",
            "source": "## 1) Ask "
        },
        {
            "metadata": {},
            "cell_type": "markdown",
            "source": "Three questions will guide the future marketing program:\n1. How do annual members and casual riders use Cyclistic bikes differently?\n2. Why would casual riders buy Cyclistic annual memberships?\n3. How can Cyclistic use digital media to influence casual riders to become members?"
        },
        {
            "metadata": {},
            "cell_type": "markdown",
            "source": "## 2) Prepare"
        },
        {
            "metadata": {},
            "cell_type": "markdown",
            "source": "### Preprocessing Coding Log"
        },
        {
            "metadata": {},
            "cell_type": "code",
            "source": "import numpy as np                        # for efficient data types\nimport csv                                # to take a peek at our CSV files\nimport os                                 \nimport glob                               # pathnames matching\nimport pandas as pd                       # data manipulation and analysis with parallelization \nimport warnings                           # to get rid of markdown warnings\nimport geopandas as gpd                   # for geographical visualizations\nimport matplotlib.pyplot as plt           # to support plotting visuals\nimport seaborn as sns                     # visualization module\nfrom shapely.geometry import Point, Polygon\nimport difflib                            # for comparing strings\nimport re                                 # for pattern matching \n\n\n# global settings\nsns.set(style=\"white\")\n%matplotlib inline\nwarnings.simplefilter('ignore')\npd.set_option('display.max_rows', 100)\n\n# functions and variables that we'll reuse \ndef cols_mem_usage(*args: str) -> None:\n    \"\"\"Print dataframe column's memory usage in megabytes.\"\"\"\n    df_mem_usage = df.memory_usage(deep = True)\n    for col_name in list(args):\n        print(f\"{col_name} total memory usage: {df_mem_usage[col_name]/1_000_000}MB\")\n        \n\"\"\"\npandas is inadvertantly converting integers into floats (i.e. 1 -> 1.0) on csv reads, so\nthis is mainly to handle comparisons that should hold true like '1' == '1.0'  \nwhile accounting for strings without digits\n\"\"\"\ndef try_int(x: str) -> str:\n    \"\"\"Attempt to convert a string into an integer, and back into a string to remove decimals.\"\"\"\n    try:\n        return str(int(x))\n    except ValueError:\n        return x",
            "execution_count": 1,
            "outputs": []
        },
        {
            "metadata": {},
            "cell_type": "code",
            "source": "def get_csv_peek(fp: str) -> pd.DataFrame:   \n    \"\"\"Look at csv's first record as a dataframe\"\"\"\n    with open(fp) as csvfile:\n        reader = csv.reader(csvfile)\n        column_headers = next(reader) \n        first_row = next(reader)\n        return pd.DataFrame(data = [first_row], columns = column_headers)\n\nget_csv_peek(\"uncleaned_data/202007-divvy-tripdata.csv\")",
            "execution_count": 3,
            "outputs": [
                {
                    "output_type": "error",
                    "ename": "FileNotFoundError",
                    "evalue": "[Errno 2] No such file or directory: 'uncleaned_data/202007-divvy-tripdata.csv'",
                    "traceback": [
                        "\u001b[0;31m---------------------------------------------------------------------------\u001b[0m",
                        "\u001b[0;31mFileNotFoundError\u001b[0m                         Traceback (most recent call last)",
                        "\u001b[0;32m<ipython-input-3-1b3d6c614b39>\u001b[0m in \u001b[0;36m<module>\u001b[0;34m\u001b[0m\n\u001b[1;32m      7\u001b[0m         \u001b[0;32mreturn\u001b[0m \u001b[0mpd\u001b[0m\u001b[0;34m.\u001b[0m\u001b[0mDataFrame\u001b[0m\u001b[0;34m(\u001b[0m\u001b[0mdata\u001b[0m \u001b[0;34m=\u001b[0m \u001b[0;34m[\u001b[0m\u001b[0mfirst_row\u001b[0m\u001b[0;34m]\u001b[0m\u001b[0;34m,\u001b[0m \u001b[0mcolumns\u001b[0m \u001b[0;34m=\u001b[0m \u001b[0mcolumn_headers\u001b[0m\u001b[0;34m)\u001b[0m\u001b[0;34m\u001b[0m\u001b[0;34m\u001b[0m\u001b[0m\n\u001b[1;32m      8\u001b[0m \u001b[0;34m\u001b[0m\u001b[0m\n\u001b[0;32m----> 9\u001b[0;31m \u001b[0mget_csv_peek\u001b[0m\u001b[0;34m(\u001b[0m\u001b[0;34m\"uncleaned_data/202007-divvy-tripdata.csv\"\u001b[0m\u001b[0;34m)\u001b[0m\u001b[0;34m\u001b[0m\u001b[0;34m\u001b[0m\u001b[0m\n\u001b[0m",
                        "\u001b[0;32m<ipython-input-3-1b3d6c614b39>\u001b[0m in \u001b[0;36mget_csv_peek\u001b[0;34m(fp)\u001b[0m\n\u001b[1;32m      1\u001b[0m \u001b[0;32mdef\u001b[0m \u001b[0mget_csv_peek\u001b[0m\u001b[0;34m(\u001b[0m\u001b[0mfp\u001b[0m\u001b[0;34m:\u001b[0m \u001b[0mstr\u001b[0m\u001b[0;34m)\u001b[0m \u001b[0;34m->\u001b[0m \u001b[0mpd\u001b[0m\u001b[0;34m.\u001b[0m\u001b[0mDataFrame\u001b[0m\u001b[0;34m:\u001b[0m\u001b[0;34m\u001b[0m\u001b[0;34m\u001b[0m\u001b[0m\n\u001b[1;32m      2\u001b[0m     \u001b[0;34m\"\"\"Look at csv's first record as a dataframe\"\"\"\u001b[0m\u001b[0;34m\u001b[0m\u001b[0;34m\u001b[0m\u001b[0m\n\u001b[0;32m----> 3\u001b[0;31m     \u001b[0;32mwith\u001b[0m \u001b[0mopen\u001b[0m\u001b[0;34m(\u001b[0m\u001b[0mfp\u001b[0m\u001b[0;34m)\u001b[0m \u001b[0;32mas\u001b[0m \u001b[0mcsvfile\u001b[0m\u001b[0;34m:\u001b[0m\u001b[0;34m\u001b[0m\u001b[0;34m\u001b[0m\u001b[0m\n\u001b[0m\u001b[1;32m      4\u001b[0m         \u001b[0mreader\u001b[0m \u001b[0;34m=\u001b[0m \u001b[0mcsv\u001b[0m\u001b[0;34m.\u001b[0m\u001b[0mreader\u001b[0m\u001b[0;34m(\u001b[0m\u001b[0mcsvfile\u001b[0m\u001b[0;34m)\u001b[0m\u001b[0;34m\u001b[0m\u001b[0;34m\u001b[0m\u001b[0m\n\u001b[1;32m      5\u001b[0m         \u001b[0mcolumn_headers\u001b[0m \u001b[0;34m=\u001b[0m \u001b[0mnext\u001b[0m\u001b[0;34m(\u001b[0m\u001b[0mreader\u001b[0m\u001b[0;34m)\u001b[0m\u001b[0;34m\u001b[0m\u001b[0;34m\u001b[0m\u001b[0m\n",
                        "\u001b[0;31mFileNotFoundError\u001b[0m: [Errno 2] No such file or directory: 'uncleaned_data/202007-divvy-tripdata.csv'"
                    ]
                }
            ]
        },
        {
            "metadata": {},
            "cell_type": "code",
            "source": "",
            "execution_count": null,
            "outputs": []
        }
    ],
    "metadata": {
        "kernelspec": {
            "name": "python3",
            "display_name": "Python 3.8",
            "language": "python"
        },
        "language_info": {
            "name": "python",
            "version": "3.8.12",
            "mimetype": "text/x-python",
            "codemirror_mode": {
                "name": "ipython",
                "version": 3
            },
            "pygments_lexer": "ipython3",
            "nbconvert_exporter": "python",
            "file_extension": ".py"
        }
    },
    "nbformat": 4,
    "nbformat_minor": 1
}