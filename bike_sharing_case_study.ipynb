<H1> Case Study: Bike sharing services </H1>
